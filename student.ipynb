{
 "cells": [
  {
   "cell_type": "markdown",
   "metadata": {},
   "source": [
    "## Final Project Submission\n",
    "\n",
    "Please fill out:\n",
    "* Student name: \n",
    "* Student pace: self paced / part time / full time\n",
    "* Scheduled project review date/time: \n",
    "* Instructor name: \n",
    "* Blog post URL:\n"
   ]
  },
  {
   "cell_type": "markdown",
   "metadata": {},
   "source": [
    "## Student Name:\n",
    "Collins Ng'ang'a Ndirangu\n",
    "## Student Pace: \n",
    "Part Time\n",
    "## Instructor Name: \n",
    "Mildred Jepkosgei\n",
    "## Blog Post URL:"
   ]
  },
  {
   "cell_type": "markdown",
   "metadata": {},
   "source": [
    "## Introduction\n",
    "For this project the goal is to analyze aviation incident data to identify aircraft models with the lowest risk damage wise, fatalities and injuries. By carefully analyzing the data we can come up with actionable insights for the business looking to purchase the aircrafts.\n",
    "\n",
    "We will be using the 'AviationData.csv' dataset provided which contains detailed information about the aviation incidents such as the aircraft make, model, engine type, fatal injuries just to mention but a few.\n",
    "\n",
    "## Objectives\n",
    "Carefully identify the model with the lowest risk based on the data      provided.\n",
    "\n",
    "Create visualizations that will aid in making the right decision on which aircraft to purchase.\n",
    "\n",
    "Give recommendations on what type of aircraft they will select based on the one with the lowest risk.\n",
    "\n",
    "## About the data\n",
    "\n",
    "For the Final Project we have been provided with the AviationData.csv dataset. The aim is to determine the aircraft with the lowest risk affiliated to it to help a business purchase them for commercial and private enterprises.\n",
    "\n",
    "The dataset contains alot of information about aviation incidents and accidents that span from way back in 1962 to about 2021. It contains aiarcraft details: Make, model and engine types, Event date, weather conditions total fatalities and damage severity."
   ]
  },
  {
   "cell_type": "markdown",
   "metadata": {},
   "source": [
    "## Import the neccessary libraries\n",
    "\n",
    "We start by importing the neccessary libraries that are required for the project."
   ]
  },
  {
   "cell_type": "code",
   "execution_count": 62,
   "metadata": {},
   "outputs": [],
   "source": [
    "# First we import the neccessary libraries using the standard alias\n",
    "import pandas as pd\n",
    "import matplotlib.pyplot as plt\n",
    "import seaborn as sns\n"
   ]
  },
  {
   "cell_type": "markdown",
   "metadata": {},
   "source": [
    "## Loading the csv file\n",
    "\n",
    "We then load the csv file 'AviationData.csv' using pd.read_csv(' ').\n",
    "\n",
    "We should also note that all the data is stored in a folder titled 'data'\n",
    "\n",
    "We then print the first 5 rows using the df.head( ), followed by the last 5 rows df.tail( )\n",
    "\n",
    "The dataset is large, for use only the first 1,000 will be loaded which will allow for faster processing."
   ]
  },
  {
   "cell_type": "code",
   "execution_count": 19,
   "metadata": {},
   "outputs": [],
   "source": [
    "#Load the dataset, since the file is large cap it at 1000 rows for faster exploration.\n",
    "df = pd.read_csv('data/AviationData.csv', nrows = 1000)"
   ]
  },
  {
   "cell_type": "code",
   "execution_count": 9,
   "metadata": {},
   "outputs": [
    {
     "data": {
      "text/html": [
       "<div>\n",
       "<style scoped>\n",
       "    .dataframe tbody tr th:only-of-type {\n",
       "        vertical-align: middle;\n",
       "    }\n",
       "\n",
       "    .dataframe tbody tr th {\n",
       "        vertical-align: top;\n",
       "    }\n",
       "\n",
       "    .dataframe thead th {\n",
       "        text-align: right;\n",
       "    }\n",
       "</style>\n",
       "<table border=\"1\" class=\"dataframe\">\n",
       "  <thead>\n",
       "    <tr style=\"text-align: right;\">\n",
       "      <th></th>\n",
       "      <th>Event.Id</th>\n",
       "      <th>Investigation.Type</th>\n",
       "      <th>Accident.Number</th>\n",
       "      <th>Event.Date</th>\n",
       "      <th>Location</th>\n",
       "      <th>Country</th>\n",
       "      <th>Latitude</th>\n",
       "      <th>Longitude</th>\n",
       "      <th>Airport.Code</th>\n",
       "      <th>Airport.Name</th>\n",
       "      <th>...</th>\n",
       "      <th>Purpose.of.flight</th>\n",
       "      <th>Air.carrier</th>\n",
       "      <th>Total.Fatal.Injuries</th>\n",
       "      <th>Total.Serious.Injuries</th>\n",
       "      <th>Total.Minor.Injuries</th>\n",
       "      <th>Total.Uninjured</th>\n",
       "      <th>Weather.Condition</th>\n",
       "      <th>Broad.phase.of.flight</th>\n",
       "      <th>Report.Status</th>\n",
       "      <th>Publication.Date</th>\n",
       "    </tr>\n",
       "  </thead>\n",
       "  <tbody>\n",
       "    <tr>\n",
       "      <th>0</th>\n",
       "      <td>20001218X45444</td>\n",
       "      <td>Accident</td>\n",
       "      <td>SEA87LA080</td>\n",
       "      <td>1948-10-24</td>\n",
       "      <td>MOOSE CREEK, ID</td>\n",
       "      <td>United States</td>\n",
       "      <td>NaN</td>\n",
       "      <td>NaN</td>\n",
       "      <td>NaN</td>\n",
       "      <td>NaN</td>\n",
       "      <td>...</td>\n",
       "      <td>Personal</td>\n",
       "      <td>NaN</td>\n",
       "      <td>2.0</td>\n",
       "      <td>0.0</td>\n",
       "      <td>0.0</td>\n",
       "      <td>0.0</td>\n",
       "      <td>UNK</td>\n",
       "      <td>Cruise</td>\n",
       "      <td>Probable Cause</td>\n",
       "      <td>NaN</td>\n",
       "    </tr>\n",
       "    <tr>\n",
       "      <th>1</th>\n",
       "      <td>20001218X45447</td>\n",
       "      <td>Accident</td>\n",
       "      <td>LAX94LA336</td>\n",
       "      <td>1962-07-19</td>\n",
       "      <td>BRIDGEPORT, CA</td>\n",
       "      <td>United States</td>\n",
       "      <td>NaN</td>\n",
       "      <td>NaN</td>\n",
       "      <td>NaN</td>\n",
       "      <td>NaN</td>\n",
       "      <td>...</td>\n",
       "      <td>Personal</td>\n",
       "      <td>NaN</td>\n",
       "      <td>4.0</td>\n",
       "      <td>0.0</td>\n",
       "      <td>0.0</td>\n",
       "      <td>0.0</td>\n",
       "      <td>UNK</td>\n",
       "      <td>Unknown</td>\n",
       "      <td>Probable Cause</td>\n",
       "      <td>19-09-1996</td>\n",
       "    </tr>\n",
       "    <tr>\n",
       "      <th>2</th>\n",
       "      <td>20061025X01555</td>\n",
       "      <td>Accident</td>\n",
       "      <td>NYC07LA005</td>\n",
       "      <td>1974-08-30</td>\n",
       "      <td>Saltville, VA</td>\n",
       "      <td>United States</td>\n",
       "      <td>36.922223</td>\n",
       "      <td>-81.878056</td>\n",
       "      <td>NaN</td>\n",
       "      <td>NaN</td>\n",
       "      <td>...</td>\n",
       "      <td>Personal</td>\n",
       "      <td>NaN</td>\n",
       "      <td>3.0</td>\n",
       "      <td>NaN</td>\n",
       "      <td>NaN</td>\n",
       "      <td>NaN</td>\n",
       "      <td>IMC</td>\n",
       "      <td>Cruise</td>\n",
       "      <td>Probable Cause</td>\n",
       "      <td>26-02-2007</td>\n",
       "    </tr>\n",
       "    <tr>\n",
       "      <th>3</th>\n",
       "      <td>20001218X45448</td>\n",
       "      <td>Accident</td>\n",
       "      <td>LAX96LA321</td>\n",
       "      <td>1977-06-19</td>\n",
       "      <td>EUREKA, CA</td>\n",
       "      <td>United States</td>\n",
       "      <td>NaN</td>\n",
       "      <td>NaN</td>\n",
       "      <td>NaN</td>\n",
       "      <td>NaN</td>\n",
       "      <td>...</td>\n",
       "      <td>Personal</td>\n",
       "      <td>NaN</td>\n",
       "      <td>2.0</td>\n",
       "      <td>0.0</td>\n",
       "      <td>0.0</td>\n",
       "      <td>0.0</td>\n",
       "      <td>IMC</td>\n",
       "      <td>Cruise</td>\n",
       "      <td>Probable Cause</td>\n",
       "      <td>12-09-2000</td>\n",
       "    </tr>\n",
       "    <tr>\n",
       "      <th>4</th>\n",
       "      <td>20041105X01764</td>\n",
       "      <td>Accident</td>\n",
       "      <td>CHI79FA064</td>\n",
       "      <td>1979-08-02</td>\n",
       "      <td>Canton, OH</td>\n",
       "      <td>United States</td>\n",
       "      <td>NaN</td>\n",
       "      <td>NaN</td>\n",
       "      <td>NaN</td>\n",
       "      <td>NaN</td>\n",
       "      <td>...</td>\n",
       "      <td>Personal</td>\n",
       "      <td>NaN</td>\n",
       "      <td>1.0</td>\n",
       "      <td>2.0</td>\n",
       "      <td>NaN</td>\n",
       "      <td>0.0</td>\n",
       "      <td>VMC</td>\n",
       "      <td>Approach</td>\n",
       "      <td>Probable Cause</td>\n",
       "      <td>16-04-1980</td>\n",
       "    </tr>\n",
       "  </tbody>\n",
       "</table>\n",
       "<p>5 rows × 31 columns</p>\n",
       "</div>"
      ],
      "text/plain": [
       "         Event.Id Investigation.Type Accident.Number  Event.Date  \\\n",
       "0  20001218X45444           Accident      SEA87LA080  1948-10-24   \n",
       "1  20001218X45447           Accident      LAX94LA336  1962-07-19   \n",
       "2  20061025X01555           Accident      NYC07LA005  1974-08-30   \n",
       "3  20001218X45448           Accident      LAX96LA321  1977-06-19   \n",
       "4  20041105X01764           Accident      CHI79FA064  1979-08-02   \n",
       "\n",
       "          Location        Country   Latitude  Longitude Airport.Code  \\\n",
       "0  MOOSE CREEK, ID  United States        NaN        NaN          NaN   \n",
       "1   BRIDGEPORT, CA  United States        NaN        NaN          NaN   \n",
       "2    Saltville, VA  United States  36.922223 -81.878056          NaN   \n",
       "3       EUREKA, CA  United States        NaN        NaN          NaN   \n",
       "4       Canton, OH  United States        NaN        NaN          NaN   \n",
       "\n",
       "  Airport.Name  ... Purpose.of.flight Air.carrier Total.Fatal.Injuries  \\\n",
       "0          NaN  ...          Personal         NaN                  2.0   \n",
       "1          NaN  ...          Personal         NaN                  4.0   \n",
       "2          NaN  ...          Personal         NaN                  3.0   \n",
       "3          NaN  ...          Personal         NaN                  2.0   \n",
       "4          NaN  ...          Personal         NaN                  1.0   \n",
       "\n",
       "  Total.Serious.Injuries Total.Minor.Injuries Total.Uninjured  \\\n",
       "0                    0.0                  0.0             0.0   \n",
       "1                    0.0                  0.0             0.0   \n",
       "2                    NaN                  NaN             NaN   \n",
       "3                    0.0                  0.0             0.0   \n",
       "4                    2.0                  NaN             0.0   \n",
       "\n",
       "  Weather.Condition  Broad.phase.of.flight   Report.Status Publication.Date  \n",
       "0               UNK                 Cruise  Probable Cause              NaN  \n",
       "1               UNK                Unknown  Probable Cause       19-09-1996  \n",
       "2               IMC                 Cruise  Probable Cause       26-02-2007  \n",
       "3               IMC                 Cruise  Probable Cause       12-09-2000  \n",
       "4               VMC               Approach  Probable Cause       16-04-1980  \n",
       "\n",
       "[5 rows x 31 columns]"
      ]
     },
     "execution_count": 9,
     "metadata": {},
     "output_type": "execute_result"
    }
   ],
   "source": [
    "# Print the first 5 rows of df\n",
    "df.head()"
   ]
  },
  {
   "cell_type": "code",
   "execution_count": 11,
   "metadata": {},
   "outputs": [
    {
     "data": {
      "text/html": [
       "<div>\n",
       "<style scoped>\n",
       "    .dataframe tbody tr th:only-of-type {\n",
       "        vertical-align: middle;\n",
       "    }\n",
       "\n",
       "    .dataframe tbody tr th {\n",
       "        vertical-align: top;\n",
       "    }\n",
       "\n",
       "    .dataframe thead th {\n",
       "        text-align: right;\n",
       "    }\n",
       "</style>\n",
       "<table border=\"1\" class=\"dataframe\">\n",
       "  <thead>\n",
       "    <tr style=\"text-align: right;\">\n",
       "      <th></th>\n",
       "      <th>Event.Id</th>\n",
       "      <th>Investigation.Type</th>\n",
       "      <th>Accident.Number</th>\n",
       "      <th>Event.Date</th>\n",
       "      <th>Location</th>\n",
       "      <th>Country</th>\n",
       "      <th>Latitude</th>\n",
       "      <th>Longitude</th>\n",
       "      <th>Airport.Code</th>\n",
       "      <th>Airport.Name</th>\n",
       "      <th>...</th>\n",
       "      <th>Purpose.of.flight</th>\n",
       "      <th>Air.carrier</th>\n",
       "      <th>Total.Fatal.Injuries</th>\n",
       "      <th>Total.Serious.Injuries</th>\n",
       "      <th>Total.Minor.Injuries</th>\n",
       "      <th>Total.Uninjured</th>\n",
       "      <th>Weather.Condition</th>\n",
       "      <th>Broad.phase.of.flight</th>\n",
       "      <th>Report.Status</th>\n",
       "      <th>Publication.Date</th>\n",
       "    </tr>\n",
       "  </thead>\n",
       "  <tbody>\n",
       "    <tr>\n",
       "      <th>995</th>\n",
       "      <td>20020917X01877</td>\n",
       "      <td>Accident</td>\n",
       "      <td>CHI82DA142</td>\n",
       "      <td>1982-04-27</td>\n",
       "      <td>LANCASTER, OH</td>\n",
       "      <td>United States</td>\n",
       "      <td>NaN</td>\n",
       "      <td>NaN</td>\n",
       "      <td>I15</td>\n",
       "      <td>FAIRFIELD COUNTY</td>\n",
       "      <td>...</td>\n",
       "      <td>Instructional</td>\n",
       "      <td>NaN</td>\n",
       "      <td>0.0</td>\n",
       "      <td>0.0</td>\n",
       "      <td>0.0</td>\n",
       "      <td>1.0</td>\n",
       "      <td>VMC</td>\n",
       "      <td>Landing</td>\n",
       "      <td>Probable Cause</td>\n",
       "      <td>27-04-1983</td>\n",
       "    </tr>\n",
       "    <tr>\n",
       "      <th>996</th>\n",
       "      <td>20020917X02396</td>\n",
       "      <td>Accident</td>\n",
       "      <td>MIA82DLA05</td>\n",
       "      <td>1982-04-27</td>\n",
       "      <td>DELAND, FL</td>\n",
       "      <td>United States</td>\n",
       "      <td>NaN</td>\n",
       "      <td>NaN</td>\n",
       "      <td>NaN</td>\n",
       "      <td>DELAND MUNICIPAL</td>\n",
       "      <td>...</td>\n",
       "      <td>Unknown</td>\n",
       "      <td>NaN</td>\n",
       "      <td>1.0</td>\n",
       "      <td>0.0</td>\n",
       "      <td>0.0</td>\n",
       "      <td>0.0</td>\n",
       "      <td>VMC</td>\n",
       "      <td>Takeoff</td>\n",
       "      <td>Probable Cause</td>\n",
       "      <td>27-04-1983</td>\n",
       "    </tr>\n",
       "    <tr>\n",
       "      <th>997</th>\n",
       "      <td>20020917X01957</td>\n",
       "      <td>Accident</td>\n",
       "      <td>DEN82DA073</td>\n",
       "      <td>1982-04-27</td>\n",
       "      <td>COALVILLE, UT</td>\n",
       "      <td>United States</td>\n",
       "      <td>NaN</td>\n",
       "      <td>NaN</td>\n",
       "      <td>NaN</td>\n",
       "      <td>NaN</td>\n",
       "      <td>...</td>\n",
       "      <td>Unknown</td>\n",
       "      <td>NaN</td>\n",
       "      <td>0.0</td>\n",
       "      <td>0.0</td>\n",
       "      <td>2.0</td>\n",
       "      <td>0.0</td>\n",
       "      <td>VMC</td>\n",
       "      <td>Maneuvering</td>\n",
       "      <td>Probable Cause</td>\n",
       "      <td>27-04-1983</td>\n",
       "    </tr>\n",
       "    <tr>\n",
       "      <th>998</th>\n",
       "      <td>20020917X02109</td>\n",
       "      <td>Accident</td>\n",
       "      <td>FTW82FA155</td>\n",
       "      <td>1982-04-28</td>\n",
       "      <td>HOUSTON, TX</td>\n",
       "      <td>United States</td>\n",
       "      <td>NaN</td>\n",
       "      <td>NaN</td>\n",
       "      <td>NaN</td>\n",
       "      <td>WILLIAM P. HOBBY</td>\n",
       "      <td>...</td>\n",
       "      <td>Ferry</td>\n",
       "      <td>NaN</td>\n",
       "      <td>1.0</td>\n",
       "      <td>0.0</td>\n",
       "      <td>0.0</td>\n",
       "      <td>0.0</td>\n",
       "      <td>VMC</td>\n",
       "      <td>Takeoff</td>\n",
       "      <td>Probable Cause</td>\n",
       "      <td>28-04-1983</td>\n",
       "    </tr>\n",
       "    <tr>\n",
       "      <th>999</th>\n",
       "      <td>20020917X01976</td>\n",
       "      <td>Accident</td>\n",
       "      <td>DEN82FA074</td>\n",
       "      <td>1982-04-28</td>\n",
       "      <td>HAKALAU, HI</td>\n",
       "      <td>United States</td>\n",
       "      <td>NaN</td>\n",
       "      <td>NaN</td>\n",
       "      <td>NaN</td>\n",
       "      <td>NaN</td>\n",
       "      <td>...</td>\n",
       "      <td>Unknown</td>\n",
       "      <td>Island Airlines Hawaii, Ltd.</td>\n",
       "      <td>2.0</td>\n",
       "      <td>0.0</td>\n",
       "      <td>0.0</td>\n",
       "      <td>0.0</td>\n",
       "      <td>VMC</td>\n",
       "      <td>Climb</td>\n",
       "      <td>Probable Cause</td>\n",
       "      <td>28-04-1983</td>\n",
       "    </tr>\n",
       "  </tbody>\n",
       "</table>\n",
       "<p>5 rows × 31 columns</p>\n",
       "</div>"
      ],
      "text/plain": [
       "           Event.Id Investigation.Type Accident.Number  Event.Date  \\\n",
       "995  20020917X01877           Accident      CHI82DA142  1982-04-27   \n",
       "996  20020917X02396           Accident      MIA82DLA05  1982-04-27   \n",
       "997  20020917X01957           Accident      DEN82DA073  1982-04-27   \n",
       "998  20020917X02109           Accident      FTW82FA155  1982-04-28   \n",
       "999  20020917X01976           Accident      DEN82FA074  1982-04-28   \n",
       "\n",
       "          Location        Country  Latitude  Longitude Airport.Code  \\\n",
       "995  LANCASTER, OH  United States       NaN        NaN          I15   \n",
       "996     DELAND, FL  United States       NaN        NaN          NaN   \n",
       "997  COALVILLE, UT  United States       NaN        NaN          NaN   \n",
       "998    HOUSTON, TX  United States       NaN        NaN          NaN   \n",
       "999    HAKALAU, HI  United States       NaN        NaN          NaN   \n",
       "\n",
       "         Airport.Name  ... Purpose.of.flight                   Air.carrier  \\\n",
       "995  FAIRFIELD COUNTY  ...     Instructional                           NaN   \n",
       "996  DELAND MUNICIPAL  ...           Unknown                           NaN   \n",
       "997               NaN  ...           Unknown                           NaN   \n",
       "998  WILLIAM P. HOBBY  ...             Ferry                           NaN   \n",
       "999               NaN  ...           Unknown  Island Airlines Hawaii, Ltd.   \n",
       "\n",
       "    Total.Fatal.Injuries Total.Serious.Injuries Total.Minor.Injuries  \\\n",
       "995                  0.0                    0.0                  0.0   \n",
       "996                  1.0                    0.0                  0.0   \n",
       "997                  0.0                    0.0                  2.0   \n",
       "998                  1.0                    0.0                  0.0   \n",
       "999                  2.0                    0.0                  0.0   \n",
       "\n",
       "    Total.Uninjured Weather.Condition  Broad.phase.of.flight   Report.Status  \\\n",
       "995             1.0               VMC                Landing  Probable Cause   \n",
       "996             0.0               VMC                Takeoff  Probable Cause   \n",
       "997             0.0               VMC            Maneuvering  Probable Cause   \n",
       "998             0.0               VMC                Takeoff  Probable Cause   \n",
       "999             0.0               VMC                  Climb  Probable Cause   \n",
       "\n",
       "    Publication.Date  \n",
       "995       27-04-1983  \n",
       "996       27-04-1983  \n",
       "997       27-04-1983  \n",
       "998       28-04-1983  \n",
       "999       28-04-1983  \n",
       "\n",
       "[5 rows x 31 columns]"
      ]
     },
     "execution_count": 11,
     "metadata": {},
     "output_type": "execute_result"
    }
   ],
   "source": [
    "#print the last 5 rows of df\n",
    "df.tail()"
   ]
  },
  {
   "cell_type": "code",
   "execution_count": null,
   "metadata": {},
   "outputs": [
    {
     "name": "stdout",
     "output_type": "stream",
     "text": [
      "<class 'pandas.core.frame.DataFrame'>\n",
      "RangeIndex: 1000 entries, 0 to 999\n",
      "Data columns (total 31 columns):\n",
      " #   Column                  Non-Null Count  Dtype  \n",
      "---  ------                  --------------  -----  \n",
      " 0   Event.Id                1000 non-null   object \n",
      " 1   Investigation.Type      1000 non-null   object \n",
      " 2   Accident.Number         1000 non-null   object \n",
      " 3   Event.Date              1000 non-null   object \n",
      " 4   Location                1000 non-null   object \n",
      " 5   Country                 995 non-null    object \n",
      " 6   Latitude                3 non-null      float64\n",
      " 7   Longitude               3 non-null      float64\n",
      " 8   Airport.Code            490 non-null    object \n",
      " 9   Airport.Name            645 non-null    object \n",
      " 10  Injury.Severity         1000 non-null   object \n",
      " 11  Aircraft.damage         984 non-null    object \n",
      " 12  Aircraft.Category       980 non-null    object \n",
      " 13  Registration.Number     1000 non-null   object \n",
      " 14  Make                    1000 non-null   object \n",
      " 15  Model                   996 non-null    object \n",
      " 16  Amateur.Built           999 non-null    object \n",
      " 17  Number.of.Engines       999 non-null    float64\n",
      " 18  Engine.Type             999 non-null    object \n",
      " 19  FAR.Description         980 non-null    object \n",
      " 20  Schedule                131 non-null    object \n",
      " 21  Purpose.of.flight       998 non-null    object \n",
      " 22  Air.carrier             76 non-null     object \n",
      " 23  Total.Fatal.Injuries    991 non-null    float64\n",
      " 24  Total.Serious.Injuries  988 non-null    float64\n",
      " 25  Total.Minor.Injuries    988 non-null    float64\n",
      " 26  Total.Uninjured         997 non-null    float64\n",
      " 27  Weather.Condition       1000 non-null   object \n",
      " 28  Broad.phase.of.flight   1000 non-null   object \n",
      " 29  Report.Status           1000 non-null   object \n",
      " 30  Publication.Date        999 non-null    object \n",
      "dtypes: float64(7), object(24)\n",
      "memory usage: 242.3+ KB\n"
     ]
    }
   ],
   "source": [
    "#We then check what is going on with the data set. \n",
    "df.info()"
   ]
  },
  {
   "cell_type": "code",
   "execution_count": 25,
   "metadata": {},
   "outputs": [
    {
     "name": "stdout",
     "output_type": "stream",
     "text": [
      "Event.Id                    0\n",
      "Investigation.Type          0\n",
      "Accident.Number             0\n",
      "Event.Date                  0\n",
      "Location                    0\n",
      "Country                     5\n",
      "Latitude                  997\n",
      "Longitude                 997\n",
      "Airport.Code              510\n",
      "Airport.Name              355\n",
      "Injury.Severity             0\n",
      "Aircraft.damage            16\n",
      "Aircraft.Category          20\n",
      "Registration.Number         0\n",
      "Make                        0\n",
      "Model                       4\n",
      "Amateur.Built               1\n",
      "Number.of.Engines           1\n",
      "Engine.Type                 1\n",
      "FAR.Description            20\n",
      "Schedule                  869\n",
      "Purpose.of.flight           2\n",
      "Air.carrier               924\n",
      "Total.Fatal.Injuries        9\n",
      "Total.Serious.Injuries     12\n",
      "Total.Minor.Injuries       12\n",
      "Total.Uninjured             3\n",
      "Weather.Condition           0\n",
      "Broad.phase.of.flight       0\n",
      "Report.Status               0\n",
      "Publication.Date            1\n",
      "dtype: int64\n"
     ]
    }
   ],
   "source": [
    "#Time to check for missing values in each column.\n",
    "df.isnull().sum()\n"
   ]
  },
  {
   "cell_type": "markdown",
   "metadata": {},
   "source": [
    "## Cleaning the data\n",
    "\n",
    "From the data above it is evident that there are several data missing. Now we clean the data by using several steps: By selecting relevant columns, then drop rows with missing values in the key columns.\n",
    "\n",
    "My focus will be narrowed down to the following columns to perform the analysis: 'Make', 'Model', 'Aircraft.damage', 'Engine.type', 'Total.Fatal.Injuries'.\n",
    "\n",
    "Then finally we display the clean dataset.\n"
   ]
  },
  {
   "cell_type": "code",
   "execution_count": 51,
   "metadata": {},
   "outputs": [
    {
     "name": "stdout",
     "output_type": "stream",
     "text": [
      "       Engine.Type        Model Aircraft.damage  Total.Fatal.Injuries  \\\n",
      "0    Reciprocating        108-3       Destroyed                   2.0   \n",
      "1    Reciprocating     PA24-180       Destroyed                   4.0   \n",
      "2    Reciprocating         172M       Destroyed                   3.0   \n",
      "3    Reciprocating          112       Destroyed                   2.0   \n",
      "4              NaN          501       Destroyed                   1.0   \n",
      "..             ...          ...             ...                   ...   \n",
      "995  Reciprocating    PA-22-150     Substantial                   0.0   \n",
      "996  Reciprocating         440A     Substantial                   1.0   \n",
      "997    Turbo Shaft  369D (500D)     Substantial                   0.0   \n",
      "998  Reciprocating         411A       Destroyed                   1.0   \n",
      "999  Reciprocating         E18S       Destroyed                   2.0   \n",
      "\n",
      "         Make  \n",
      "0     Stinson  \n",
      "1       Piper  \n",
      "2      Cessna  \n",
      "3    Rockwell  \n",
      "4      Cessna  \n",
      "..        ...  \n",
      "995     Piper  \n",
      "996   Raz-mut  \n",
      "997    Hughes  \n",
      "998    Cessna  \n",
      "999     Beech  \n",
      "\n",
      "[1000 rows x 5 columns]\n"
     ]
    }
   ],
   "source": [
    "# We start by selecting the relevant columns.\n",
    "columns_to_keep = [\"Engine.Type\", \"Model\", \"Aircraft.damage\", \"Total.Fatal.Injuries\", \"Make\"]\n",
    "df_clean = df[columns_to_keep].copy()\n",
    "print(df[columns_to_keep])"
   ]
  },
  {
   "cell_type": "code",
   "execution_count": 52,
   "metadata": {},
   "outputs": [],
   "source": [
    "#Drop the rows with missing values in the key columns\n",
    "df_clean.dropna(subset = ['Make', 'Model', 'Aircraft.damage'], inplace = True)"
   ]
  },
  {
   "cell_type": "code",
   "execution_count": 53,
   "metadata": {},
   "outputs": [],
   "source": [
    "#We the convert 'Total.Fatal.Injuries' into a numeric value that is correct. then coerce the error to NaN\n",
    "df_clean['Total.Fatal.Injuries'] = pd.to_numeric(df_clean['Total.Fatal.Injuries'], errors = 'coerce')"
   ]
  },
  {
   "cell_type": "code",
   "execution_count": 54,
   "metadata": {},
   "outputs": [
    {
     "name": "stdout",
     "output_type": "stream",
     "text": [
      "<class 'pandas.core.frame.DataFrame'>\n",
      "Int64Index: 980 entries, 0 to 999\n",
      "Data columns (total 5 columns):\n",
      " #   Column                Non-Null Count  Dtype  \n",
      "---  ------                --------------  -----  \n",
      " 0   Engine.Type           979 non-null    object \n",
      " 1   Model                 980 non-null    object \n",
      " 2   Aircraft.damage       980 non-null    object \n",
      " 3   Total.Fatal.Injuries  973 non-null    float64\n",
      " 4   Make                  980 non-null    object \n",
      "dtypes: float64(1), object(4)\n",
      "memory usage: 45.9+ KB\n"
     ]
    }
   ],
   "source": [
    "#We then display the cleaned dataset information\n",
    "df_clean.info()"
   ]
  },
  {
   "cell_type": "markdown",
   "metadata": {},
   "source": [
    "## Aircraft Risk Evaluation\n",
    "Now that the dataset is clean we now try to identify the aircraft with the lowest risk factor which will aid the business in decison making.\n",
    "\n",
    "What will be used to identify an aircraft as low risk in this case? \n",
    "If there is no or minor damage to an aircraft during an incident and if thre are no fatalities."
   ]
  },
  {
   "cell_type": "code",
   "execution_count": 55,
   "metadata": {},
   "outputs": [
    {
     "name": "stdout",
     "output_type": "stream",
     "text": [
      "Number of low-risk aircrafts: 35\n"
     ]
    },
    {
     "data": {
      "text/html": [
       "<div>\n",
       "<style scoped>\n",
       "    .dataframe tbody tr th:only-of-type {\n",
       "        vertical-align: middle;\n",
       "    }\n",
       "\n",
       "    .dataframe tbody tr th {\n",
       "        vertical-align: top;\n",
       "    }\n",
       "\n",
       "    .dataframe thead th {\n",
       "        text-align: right;\n",
       "    }\n",
       "</style>\n",
       "<table border=\"1\" class=\"dataframe\">\n",
       "  <thead>\n",
       "    <tr style=\"text-align: right;\">\n",
       "      <th></th>\n",
       "      <th>Engine.Type</th>\n",
       "      <th>Model</th>\n",
       "      <th>Aircraft.damage</th>\n",
       "      <th>Total.Fatal.Injuries</th>\n",
       "      <th>Make</th>\n",
       "    </tr>\n",
       "  </thead>\n",
       "  <tbody>\n",
       "    <tr>\n",
       "      <th>23</th>\n",
       "      <td>Reciprocating</td>\n",
       "      <td>PA-24-180</td>\n",
       "      <td>Minor</td>\n",
       "      <td>0.0</td>\n",
       "      <td>Piper</td>\n",
       "    </tr>\n",
       "    <tr>\n",
       "      <th>40</th>\n",
       "      <td>Reciprocating</td>\n",
       "      <td>114</td>\n",
       "      <td>Minor</td>\n",
       "      <td>0.0</td>\n",
       "      <td>Rockwell</td>\n",
       "    </tr>\n",
       "    <tr>\n",
       "      <th>80</th>\n",
       "      <td>Turbo Prop</td>\n",
       "      <td>EMB-110P1</td>\n",
       "      <td>Minor</td>\n",
       "      <td>0.0</td>\n",
       "      <td>Embraer</td>\n",
       "    </tr>\n",
       "    <tr>\n",
       "      <th>119</th>\n",
       "      <td>Turbo Prop</td>\n",
       "      <td>DHC-6-300</td>\n",
       "      <td>Minor</td>\n",
       "      <td>0.0</td>\n",
       "      <td>De Havilland</td>\n",
       "    </tr>\n",
       "    <tr>\n",
       "      <th>131</th>\n",
       "      <td>Reciprocating</td>\n",
       "      <td>PA-31-350</td>\n",
       "      <td>Minor</td>\n",
       "      <td>0.0</td>\n",
       "      <td>Piper</td>\n",
       "    </tr>\n",
       "  </tbody>\n",
       "</table>\n",
       "</div>"
      ],
      "text/plain": [
       "       Engine.Type      Model Aircraft.damage  Total.Fatal.Injuries  \\\n",
       "23   Reciprocating  PA-24-180           Minor                   0.0   \n",
       "40   Reciprocating        114           Minor                   0.0   \n",
       "80      Turbo Prop  EMB-110P1           Minor                   0.0   \n",
       "119     Turbo Prop  DHC-6-300           Minor                   0.0   \n",
       "131  Reciprocating  PA-31-350           Minor                   0.0   \n",
       "\n",
       "             Make  \n",
       "23          Piper  \n",
       "40       Rockwell  \n",
       "80        Embraer  \n",
       "119  De Havilland  \n",
       "131         Piper  "
      ]
     },
     "execution_count": 55,
     "metadata": {},
     "output_type": "execute_result"
    }
   ],
   "source": [
    "low_risk = df_clean[\n",
    "    (df_clean[\"Total.Fatal.Injuries\"] == 0) &\n",
    "    (df_clean[\"Aircraft.damage\"].isin([\"None\", \"Minor\"]))\n",
    "]\n",
    "\n",
    "\n",
    "#Show the no. of identifiedlow risk aircrafts\n",
    "print(f\"Number of low-risk aircrafts: {len(low_risk)}\")\n",
    "\n",
    "# Display the first 5 rows of the low-risk aircrafts\n",
    "low_risk.head()\n"
   ]
  },
  {
   "cell_type": "markdown",
   "metadata": {},
   "source": [
    "We have norrowed down the number of low-risk that have zero fatal injuries to 35."
   ]
  },
  {
   "cell_type": "markdown",
   "metadata": {},
   "source": [
    "# Let's get the top 5 low risk aircrafts\n"
   ]
  },
  {
   "cell_type": "code",
   "execution_count": 63,
   "metadata": {},
   "outputs": [
    {
     "name": "stdout",
     "output_type": "stream",
     "text": [
      "Piper       7\n",
      "Rockwell    4\n",
      "Cessna      4\n",
      "Beech       4\n",
      "Boeing      3\n",
      "Name: Make, dtype: int64\n"
     ]
    }
   ],
   "source": [
    "top_low_risk_manufacturers = low_risk['Make'].value_counts().head(5)\n",
    "print(top_low_risk_manufacturers)"
   ]
  },
  {
   "cell_type": "code",
   "execution_count": 66,
   "metadata": {},
   "outputs": [
    {
     "data": {
      "image/png": "[encoded data removed]",
      "text/plain": [
       "<Figure size 720x360 with 1 Axes>"
      ]
     },
     "metadata": {
      "needs_background": "light"
     },
     "output_type": "display_data"
    }
   ],
   "source": [
    "# Plot the top 5 manufacturers with the most low-risk aircraft\n",
    "plt.figure(figsize=(10, 5))\n",
    "sns.barplot(x=top_low_risk_manufacturers.values, y=top_low_risk_manufacturers.index, palette=\"viridis\")\n",
    "plt.title(\"Top 5 Manufacturers with the Most Low-Risk Aircraft\")\n",
    "plt.xlabel(\"Number of Low-Risk Aircraft\")\n",
    "plt.ylabel(\"Manufacturer\")\n",
    "plt.show()"
   ]
  },
  {
   "cell_type": "code",
   "execution_count": 64,
   "metadata": {},
   "outputs": [
    {
     "name": "stdout",
     "output_type": "stream",
     "text": [
      "                 Make      Model  Count\n",
      "25              Piper  PA-31-350      2\n",
      "0             Aeronca       11AC      1\n",
      "19           Lockheed     L-1011      1\n",
      "20  Mcdonnell-douglas   DC-10-10      1\n",
      "21      Nord Aviation    262A-12      1\n"
     ]
    }
   ],
   "source": [
    "# \n",
    "top_low_risk_models = low_risk.groupby(['Make', 'Model']).size().reset_index(name='Count')\n",
    "top_low_risk_models = top_low_risk_models.sort_values(by='Count', ascending=False).head(5)\n",
    "print(top_low_risk_models)"
   ]
  },
  {
   "cell_type": "code",
   "execution_count": 65,
   "metadata": {},
   "outputs": [
    {
     "data": {
      "image/png": "[encoded data removed]",
      "text/plain": [
       "<Figure size 720x360 with 1 Axes>"
      ]
     },
     "metadata": {
      "needs_background": "light"
     },
     "output_type": "display_data"
    }
   ],
   "source": [
    "# Plot the top 5 models with the most low-risk aircraft\n",
    "plt.figure(figsize=(10, 5))\n",
    "sns.barplot(x='Count', y='Model', data=top_low_risk_models, palette=\"viridis\")\n",
    "plt.title(\"Top 5 Models with the Most Low-Risk Aircraft\")\n",
    "plt.xlabel(\"Number of Low-Risk Aircraft\")\n",
    "plt.ylabel(\"Aircraft Model\")\n",
    "plt.show()"
   ]
  },
  {
   "cell_type": "markdown",
   "metadata": {},
   "source": [
    "## Visualizations\n",
    " "
   ]
  },
  {
   "cell_type": "markdown",
   "metadata": {},
   "source": [
    "## Visualization 1: Low-Risk Aircraft Models\n",
    "This plot will show the manufacturers with aircrafts with the lowest risk. The top five being:"
   ]
  },
  {
   "cell_type": "code",
   "execution_count": 43,
   "metadata": {},
   "outputs": [
    {
     "data": {
      "image/png": "[encoded data removed]",
      "text/plain": [
       "<Figure size 720x360 with 1 Axes>"
      ]
     },
     "metadata": {
      "needs_background": "light"
     },
     "output_type": "display_data"
    }
   ],
   "source": [
    "plt.figure(figsize=(10,5))\n",
    "sns.countplot(y=low_risk[\"Make\"], order=low_risk[\"Make\"].value_counts().index)\n",
    "plt.title(\"Low-Risk Aircraft Models\")\n",
    "plt.xlabel(\"Count\")\n",
    "plt.ylabel(\"Aircraft Model\")\n",
    "plt.show()\n"
   ]
  },
  {
   "cell_type": "markdown",
   "metadata": {},
   "source": [
    "## Visualization 2: Top 10 Manufacturers Involved in Incidents\n",
    "This plot shows the top 10 manufacturers that have aircrafts involed in the most accidents to the lowest."
   ]
  },
  {
   "cell_type": "code",
   "execution_count": 59,
   "metadata": {},
   "outputs": [
    {
     "data": {
      "image/png": "[encoded data removed]",
      "text/plain": [
       "<Figure size 720x432 with 1 Axes>"
      ]
     },
     "metadata": {
      "needs_background": "light"
     },
     "output_type": "display_data"
    }
   ],
   "source": [
    "#Manufacturers with the most accidents\n",
    "plt.figure(figsize=(10, 6))\n",
    "sns.countplot(y=df_clean[\"Make\"], order=df_clean[\"Make\"].value_counts().index[:10], palette=\"viridis\")\n",
    "plt.title(\"Top 10 Aircraft Manufacturers Involved in Incidents\")\n",
    "plt.xlabel(\"Count\")\n",
    "plt.ylabel(\"Manufacturer\")\n",
    "plt.show()\n"
   ]
  },
  {
   "cell_type": "markdown",
   "metadata": {},
   "source": [
    "## Visualization 3: The Common Engine Types involved in Accidents\n",
    "This plot will clearly show the engine types that are most commonly involved in incidents.\n",
    "\n",
    "From the plot below we can see that Reciprocating engines over the years have been involved in incidents making it a high risk for an aircraft with that engine whereas others like the turbo jet can be viewed as low risk based on the low number of incidents it has been involved in. "
   ]
  },
  {
   "cell_type": "code",
   "execution_count": 60,
   "metadata": {},
   "outputs": [
    {
     "data": {
      "image/png": "[encoded data removed]",
      "text/plain": [
       "<Figure size 720x360 with 1 Axes>"
      ]
     },
     "metadata": {
      "needs_background": "light"
     },
     "output_type": "display_data"
    }
   ],
   "source": [
    "#Engines involved in the most incidents.\n",
    "plt.figure(figsize=(10, 5))\n",
    "sns.countplot(y=df_clean[\"Engine.Type\"], order=df_clean[\"Engine.Type\"].value_counts().index[:10], palette=\"pastel\")\n",
    "plt.title(\"Most Common Engine Types in Accidents\")\n",
    "plt.xlabel(\"Count\")\n",
    "plt.ylabel(\"Engine Type\")\n",
    "plt.show()\n"
   ]
  },
  {
   "cell_type": "markdown",
   "metadata": {},
   "source": [
    "## Visualization 4: Fatalities by Engine Type\n",
    "\n",
    "This visualization displays the engines that have accrued the most fatalities.\n",
    "\n",
    "We will have to use the .groupby to group the dataset by the Engine.Type column which groups all the rows with the same engine type together. "
   ]
  },
  {
   "cell_type": "code",
   "execution_count": 61,
   "metadata": {},
   "outputs": [
    {
     "data": {
      "image/png": "[encoded data removed]",
      "text/plain": [
       "<Figure size 720x360 with 1 Axes>"
      ]
     },
     "metadata": {
      "needs_background": "light"
     },
     "output_type": "display_data"
    }
   ],
   "source": [
    "engine_fatalities = df_clean.groupby(\"Engine.Type\")[\"Total.Fatal.Injuries\"].sum().sort_values(ascending=False)\n",
    "\n",
    "plt.figure(figsize=(10,5))\n",
    "sns.barplot(x=engine_fatalities.values[:10], y=engine_fatalities.index[:10], palette=\"flare\")\n",
    "plt.title(\"Total Fatalities by Engine Type\")\n",
    "plt.xlabel(\"Total Fatal Injuries\")\n",
    "plt.ylabel(\"Engine Type\")\n",
    "plt.show()\n"
   ]
  },
  {
   "cell_type": "markdown",
   "metadata": {},
   "source": [
    "## Conclusion\n",
    "\n",
    "I was able to analyze the aviation industry accidents based on the 'AviationData.csv' dataset provided to determine the aircraft with the lowest risk.\n",
    "\n",
    "This analysis will help the business make informed decisions on what aircrafts to purchase for their commercial business.\n",
    "\n",
    "I capped the analysis to 1000 rows of data for faster processing and some columns had missing values.\n",
    "\n",
    "Some of the key findings from the analysis:\n",
    "\n",
    "\n"
   ]
  },
  {
   "cell_type": "markdown",
   "metadata": {},
   "source": [
    "## Recommendations\n",
    "\n",
    "As per the analysis the business should go for the aircrafts with the lowest incident risk. The top five being: Piper, Boeing, Cessna, Rockwell and Beech.\n",
    "\n",
    "Frequent training of pilots and airplane staff should be done to always keep them fresh and up to date.\n",
    "\n",
    "Routine maintenance of all planes should be done to avoid any failures or faults during flights.\n",
    "\n"
   ]
  }
 ],
 "metadata": {
  "kernelspec": {
   "display_name": "learn-env",
   "language": "python",
   "name": "python3"
  },
  "language_info": {
   "codemirror_mode": {
    "name": "ipython",
    "version": 3
   },
   "file_extension": ".py",
   "mimetype": "text/x-python",
   "name": "python",
   "nbconvert_exporter": "python",
   "pygments_lexer": "ipython3",
   "version": "3.8.5"
  }
 },
 "nbformat": 4,
 "nbformat_minor": 2
}
